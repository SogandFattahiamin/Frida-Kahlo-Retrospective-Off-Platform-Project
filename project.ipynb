{
 "cells": [
  {
   "cell_type": "code",
   "execution_count": 1,
   "metadata": {},
   "outputs": [
    {
     "name": "stdout",
     "output_type": "stream",
     "text": [
      "[('The Two Fridas', 1939), ('My Dress Hangs Here', 1933), ('Tree of Hope', 1946), ('Self Portrait With Monkeys', 1940)]\n",
      "['The Two Fridas', 'My Dress Hangs Here', 'Tree of Hope', 'Self Portrait With Monkeys', ['The Broken Column', 1944], ['The Wounded Deer', 1946], ['Me and My Doll', 1937]]\n",
      "7\n",
      "[1, 2, 3, 4, 5, 6, 7]\n",
      "[(1, 'The Two Fridas'), (2, 'My Dress Hangs Here'), (3, 'Tree of Hope'), (4, 'Self Portrait With Monkeys'), (5, ['The Broken Column', 1944]), (6, ['The Wounded Deer', 1946]), (7, ['Me and My Doll', 1937])]\n"
     ]
    }
   ],
   "source": [
    "paintings=['The Two Fridas', 'My Dress Hangs Here', 'Tree of Hope', 'Self Portrait With Monkeys']\n",
    "\n",
    "dates=[1939, 1933, 1946, 1940]\n",
    "\n",
    "zipped=zip(paintings,dates)\n",
    "print(list(zipped))\n",
    "\n",
    "paintings.extend([['The Broken Column', 1944],['The Wounded Deer', 1946],['Me and My Doll', 1937]])\n",
    "print(paintings)\n",
    "\n",
    "print(len(paintings))\n",
    "\n",
    "audio_tour_number=range(1,8)\n",
    "print(list(audio_tour_number))\n",
    "\n",
    "master_list=zip(audio_tour_number,paintings)\n",
    "print(list(master_list))\n"
   ]
  }
 ],
 "metadata": {
  "kernelspec": {
   "display_name": "Python 3",
   "language": "python",
   "name": "python3"
  },
  "language_info": {
   "codemirror_mode": {
    "name": "ipython",
    "version": 3
   },
   "file_extension": ".py",
   "mimetype": "text/x-python",
   "name": "python",
   "nbconvert_exporter": "python",
   "pygments_lexer": "ipython3",
   "version": "3.13.0"
  }
 },
 "nbformat": 4,
 "nbformat_minor": 2
}
